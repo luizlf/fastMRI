{
 "cells": [
  {
   "cell_type": "code",
   "execution_count": 1,
   "metadata": {},
   "outputs": [],
   "source": [
    "import torch\n",
    "from torch.utils.data import DataLoader\n",
    "import pytorch_lightning as pl\n",
    "from pytorch_lightning import LightningModule\n",
    "from argparse import ArgumentParser\n",
    "from pathlib import Path\n",
    "import os\n",
    "\n",
    "from src import transforms as T\n",
    "\n",
    "from src.unet.unet import Unet\n",
    "from src.unet.unet_module import UnetModule\n",
    "from src.mri_module import MriModule\n",
    "from src.subsample import create_mask_for_mask_type, RandomMaskFunc\n",
    "from src.mri_data import CombinedSliceDataset, AnnotatedSliceDataset"
   ]
  },
  {
   "cell_type": "code",
   "execution_count": 2,
   "metadata": {},
   "outputs": [],
   "source": [
    "def load_model_from_checkpoint(checkpoint_path, hparams_file=None):\n",
    "    print(f'Loading model from checkpoint: {checkpoint_path}')\n",
    "    model = UnetModule.load_from_checkpoint(checkpoint_path, hparams_file=hparams_file)\n",
    "    model.eval()\n",
    "    print(f'Model loaded from checkpoint: {checkpoint_path}')\n",
    "    return model\n",
    "\n",
    "\n",
    "def evaluate_model(model, dataloader):\n",
    "    from tqdm import tqdm\n",
    "    metric = 0\n",
    "    print('Evaluating model...')\n",
    "    for batch in tqdm(dataloader):\n",
    "        with torch.no_grad():\n",
    "            output = model.validation_step_comparison(batch, batch_idx=0)\n",
    "            metric += output['val_loss'].item()\n",
    "    metric /= len(dataloader)\n",
    "    return metric\n",
    "\n",
    "\n",
    "configs = {\n",
    "    'data_dir': 'data/singlecoil_val',\n",
    "    'checkpoints': [\n",
    "        'logs/unet/unet_roi/checkpoints/epoch=9-step=347420.ckpt',\n",
    "        'logs/unet/unet_l1/checkpoints/epoch=9-step=347420.ckpt',\n",
    "    ],\n",
    "    'batch_size': 1,\n",
    "    'num_workers': 4,\n",
    "    'challenge':\"singlecoil\",\n",
    "    'mask_type':\"random\",  # \"random\" or \"equispaced_fraction\"\n",
    "    'center_fractions':[0.08],  # number of center lines to use in the mask\n",
    "    'accelerations':[4],  # acceleration rates to use for the mask\n",
    "}\n",
    "\n",
    "\n",
    "mask = create_mask_for_mask_type(\n",
    "    configs['mask_type'], configs['center_fractions'], configs['accelerations']\n",
    ")\n",
    "\n",
    "val_transform = T.UnetDataTransform(configs['challenge'], mask_func=mask)\n",
    "\n",
    "# validation_dataset = CombinedSliceDataset(\n",
    "#     roots=[Path(configs['data_dir'])],\n",
    "#     challenges=['singlecoil'],\n",
    "#     transforms=[val_transform]\n",
    "# )\n",
    "\n",
    "validation_dataset = AnnotatedSliceDataset(\n",
    "    root=Path(configs['data_dir']),\n",
    "    transform=val_transform,\n",
    "    challenge=configs['challenge'],\n",
    "    use_dataset_cache=False,\n",
    "    raw_sample_filter=None,\n",
    "    subsplit='knee',\n",
    "    multiple_annotation_policy='all',\n",
    ")\n",
    "\n",
    "validation_loader = DataLoader(\n",
    "    validation_dataset,\n",
    "    batch_size=configs['batch_size'],\n",
    "    num_workers=configs['num_workers'],\n",
    "    shuffle=False\n",
    ")"
   ]
  },
  {
   "cell_type": "code",
   "execution_count": 3,
   "metadata": {},
   "outputs": [
    {
     "name": "stderr",
     "output_type": "stream",
     "text": [
      "/Users/abaraldo/Documents/GitHub/fastMRI/venv/lib/python3.10/site-packages/lightning_fabric/utilities/cloud_io.py:48: FutureWarning: You are using `torch.load` with `weights_only=False` (the current default value), which uses the default pickle module implicitly. It is possible to construct malicious pickle data which will execute arbitrary code during unpickling (See https://github.com/pytorch/pytorch/blob/main/SECURITY.md#untrusted-models for more details). In a future release, the default value for `weights_only` will be flipped to `True`. This limits the functions that could be executed during unpickling. Arbitrary objects will no longer be allowed to be loaded via this mode unless they are explicitly allowlisted by the user via `torch.serialization.add_safe_globals`. We recommend you start setting `weights_only=True` for any use case where you don't have full control of the loaded file. Please open an issue on GitHub for any issues related to this experimental feature.\n",
      "  return torch.load(f, map_location=map_location)\n"
     ]
    },
    {
     "name": "stdout",
     "output_type": "stream",
     "text": [
      "Loading model from checkpoint: logs/unet/unet_roi/checkpoints/epoch=9-step=347420.ckpt\n",
      "Model loaded from checkpoint: logs/unet/unet_roi/checkpoints/epoch=9-step=347420.ckpt\n",
      "Evaluating model...\n"
     ]
    },
    {
     "name": "stderr",
     "output_type": "stream",
     "text": [
      "  1%|          | 66/7135 [00:18<20:23,  5.78it/s]  "
     ]
    }
   ],
   "source": [
    "results = {}\n",
    "for checkpoint_path in configs['checkpoints']:\n",
    "    model = load_model_from_checkpoint(checkpoint_path)\n",
    "    val_metric = evaluate_model(model, validation_loader)\n",
    "    results[checkpoint_path] = val_metric\n",
    "    print(f\"Model: {checkpoint_path}, Validation Metric: {val_metric}\")"
   ]
  },
  {
   "cell_type": "code",
   "execution_count": null,
   "metadata": {},
   "outputs": [],
   "source": []
  },
  {
   "cell_type": "code",
   "execution_count": null,
   "metadata": {},
   "outputs": [],
   "source": [
    "print(\"\\nSummary of all models:\")\n",
    "for checkpoint_path, val_metric in results.items():\n",
    "    print(f\"Model: {checkpoint_path}, Validation Metric: {val_metric}\")"
   ]
  },
  {
   "cell_type": "code",
   "execution_count": null,
   "metadata": {},
   "outputs": [],
   "source": []
  },
  {
   "cell_type": "code",
   "execution_count": null,
   "metadata": {},
   "outputs": [],
   "source": []
  },
  {
   "cell_type": "code",
   "execution_count": null,
   "metadata": {},
   "outputs": [],
   "source": []
  }
 ],
 "metadata": {
  "kernelspec": {
   "display_name": "venv",
   "language": "python",
   "name": "python3"
  },
  "language_info": {
   "codemirror_mode": {
    "name": "ipython",
    "version": 3
   },
   "file_extension": ".py",
   "mimetype": "text/x-python",
   "name": "python",
   "nbconvert_exporter": "python",
   "pygments_lexer": "ipython3",
   "version": "3.10.10"
  }
 },
 "nbformat": 4,
 "nbformat_minor": 2
}
